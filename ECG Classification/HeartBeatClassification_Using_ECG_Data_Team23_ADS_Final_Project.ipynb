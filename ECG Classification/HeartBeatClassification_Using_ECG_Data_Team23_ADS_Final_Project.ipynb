{
  "cells": [
    {
      "cell_type": "markdown",
      "id": "b770b162",
      "metadata": {
        "id": "b770b162"
      },
      "source": [
        "# Usecase Overview "
      ]
    },
    {
      "cell_type": "markdown",
      "id": "c7ccfbb8",
      "metadata": {
        "id": "c7ccfbb8"
      },
      "source": [
        "ECG is widely used by cardiologists and medical practitioners for monitoring the cardiac health. The main problem with manual analysis of ECG signals, similar to many other time-series data, lies in difficulty of detecting and categorizing different waveforms and morphologies in the signal. For a human, this task is both extensively time-consuming and prone to errors. \n"
      ]
    },
    {
      "cell_type": "markdown",
      "id": "6f0fa2b9",
      "metadata": {
        "id": "6f0fa2b9"
      },
      "source": [
        "We also study the ECG of patients and classify them into 5 different categories. To address the problems raised with the manual analysis of ECG signals, many studies in the literature explored using machine learning techniques to accurately detect the anomalies in the signal. We have implemented 3 different implementations for classifying the ECG signals. \n"
      ]
    },
    {
      "cell_type": "markdown",
      "id": "3736eae5",
      "metadata": {
        "id": "3736eae5"
      },
      "source": [
        "# Package Imports"
      ]
    },
    {
      "cell_type": "code",
      "execution_count": null,
      "id": "8d50f91d",
      "metadata": {
        "id": "8d50f91d"
      },
      "outputs": [],
      "source": [
        "import random\n",
        "import numpy as np\n",
        "import pandas as pd\n",
        "import seaborn as sns\n",
        "import matplotlib.pyplot as plt\n",
        "from sklearn.model_selection import train_test_split,cross_val_score\n",
        "from sklearn.linear_model import LogisticRegression\n",
        "from sklearn.ensemble import RandomForestClassifier\n",
        "from sklearn.ensemble import GradientBoostingClassifier\n",
        "from sklearn.metrics import confusion_matrix\n",
        "from sklearn.svm import SVC\n",
        "from sklearn.metrics import classification_report,accuracy_score,confusion_matrix"
      ]
    },
    {
      "cell_type": "markdown",
      "id": "44a2623c",
      "metadata": {
        "id": "44a2623c"
      },
      "source": [
        "# Data Loading"
      ]
    },
    {
      "cell_type": "code",
      "execution_count": null,
      "id": "d6e1721d",
      "metadata": {
        "id": "d6e1721d"
      },
      "outputs": [],
      "source": [
        "df1 = pd.read_csv('data/mitbih_train.csv',header=None)\n",
        "df2 = pd.read_csv('data/mitbih_test.csv',header=None)"
      ]
    },
    {
      "cell_type": "code",
      "execution_count": null,
      "id": "f4a8a055",
      "metadata": {
        "id": "f4a8a055"
      },
      "outputs": [],
      "source": [
        "# concat the two dataframes\n",
        "df=pd.concat([df1,df2],ignore_index=True,sort=False)"
      ]
    },
    {
      "cell_type": "code",
      "execution_count": null,
      "id": "48d20270",
      "metadata": {
        "id": "48d20270",
        "outputId": "8e5e2c09-53f6-45c0-ecfd-2dfa9612b933"
      },
      "outputs": [
        {
          "data": {
            "text/plain": [
              "(109446, 188)"
            ]
          },
          "execution_count": 4,
          "metadata": {},
          "output_type": "execute_result"
        }
      ],
      "source": [
        "df.shape"
      ]
    },
    {
      "cell_type": "code",
      "execution_count": null,
      "id": "0ff23eec",
      "metadata": {
        "id": "0ff23eec",
        "outputId": "0bc00d89-d6e2-47c7-c29e-c1dc397eba72"
      },
      "outputs": [
        {
          "data": {
            "text/html": [
              "<div>\n",
              "<style scoped>\n",
              "    .dataframe tbody tr th:only-of-type {\n",
              "        vertical-align: middle;\n",
              "    }\n",
              "\n",
              "    .dataframe tbody tr th {\n",
              "        vertical-align: top;\n",
              "    }\n",
              "\n",
              "    .dataframe thead th {\n",
              "        text-align: right;\n",
              "    }\n",
              "</style>\n",
              "<table border=\"1\" class=\"dataframe\">\n",
              "  <thead>\n",
              "    <tr style=\"text-align: right;\">\n",
              "      <th></th>\n",
              "      <th>0</th>\n",
              "      <th>1</th>\n",
              "      <th>2</th>\n",
              "      <th>3</th>\n",
              "      <th>4</th>\n",
              "      <th>5</th>\n",
              "      <th>6</th>\n",
              "      <th>7</th>\n",
              "      <th>8</th>\n",
              "      <th>9</th>\n",
              "      <th>...</th>\n",
              "      <th>178</th>\n",
              "      <th>179</th>\n",
              "      <th>180</th>\n",
              "      <th>181</th>\n",
              "      <th>182</th>\n",
              "      <th>183</th>\n",
              "      <th>184</th>\n",
              "      <th>185</th>\n",
              "      <th>186</th>\n",
              "      <th>187</th>\n",
              "    </tr>\n",
              "  </thead>\n",
              "  <tbody>\n",
              "    <tr>\n",
              "      <th>0</th>\n",
              "      <td>0.977941</td>\n",
              "      <td>0.926471</td>\n",
              "      <td>0.681373</td>\n",
              "      <td>0.245098</td>\n",
              "      <td>0.154412</td>\n",
              "      <td>0.191176</td>\n",
              "      <td>0.151961</td>\n",
              "      <td>0.085784</td>\n",
              "      <td>0.058824</td>\n",
              "      <td>0.049020</td>\n",
              "      <td>...</td>\n",
              "      <td>0.0</td>\n",
              "      <td>0.0</td>\n",
              "      <td>0.0</td>\n",
              "      <td>0.0</td>\n",
              "      <td>0.0</td>\n",
              "      <td>0.0</td>\n",
              "      <td>0.0</td>\n",
              "      <td>0.0</td>\n",
              "      <td>0.0</td>\n",
              "      <td>0.0</td>\n",
              "    </tr>\n",
              "    <tr>\n",
              "      <th>1</th>\n",
              "      <td>0.960114</td>\n",
              "      <td>0.863248</td>\n",
              "      <td>0.461538</td>\n",
              "      <td>0.196581</td>\n",
              "      <td>0.094017</td>\n",
              "      <td>0.125356</td>\n",
              "      <td>0.099715</td>\n",
              "      <td>0.088319</td>\n",
              "      <td>0.074074</td>\n",
              "      <td>0.082621</td>\n",
              "      <td>...</td>\n",
              "      <td>0.0</td>\n",
              "      <td>0.0</td>\n",
              "      <td>0.0</td>\n",
              "      <td>0.0</td>\n",
              "      <td>0.0</td>\n",
              "      <td>0.0</td>\n",
              "      <td>0.0</td>\n",
              "      <td>0.0</td>\n",
              "      <td>0.0</td>\n",
              "      <td>0.0</td>\n",
              "    </tr>\n",
              "  </tbody>\n",
              "</table>\n",
              "<p>2 rows × 188 columns</p>\n",
              "</div>"
            ],
            "text/plain": [
              "        0         1         2         3         4         5         6    \\\n",
              "0  0.977941  0.926471  0.681373  0.245098  0.154412  0.191176  0.151961   \n",
              "1  0.960114  0.863248  0.461538  0.196581  0.094017  0.125356  0.099715   \n",
              "\n",
              "        7         8         9    ...  178  179  180  181  182  183  184  185  \\\n",
              "0  0.085784  0.058824  0.049020  ...  0.0  0.0  0.0  0.0  0.0  0.0  0.0  0.0   \n",
              "1  0.088319  0.074074  0.082621  ...  0.0  0.0  0.0  0.0  0.0  0.0  0.0  0.0   \n",
              "\n",
              "   186  187  \n",
              "0  0.0  0.0  \n",
              "1  0.0  0.0  \n",
              "\n",
              "[2 rows x 188 columns]"
            ]
          },
          "execution_count": 5,
          "metadata": {},
          "output_type": "execute_result"
        }
      ],
      "source": [
        "df.head(2)"
      ]
    },
    {
      "cell_type": "code",
      "execution_count": null,
      "id": "75f5f16d",
      "metadata": {
        "id": "75f5f16d",
        "outputId": "36526f0a-83e2-4731-fad4-f762d1ee6ce5"
      },
      "outputs": [
        {
          "data": {
            "text/plain": [
              "0.0    90589\n",
              "4.0     8039\n",
              "2.0     7236\n",
              "1.0     2779\n",
              "3.0      803\n",
              "Name: 187, dtype: int64"
            ]
          },
          "execution_count": 6,
          "metadata": {},
          "output_type": "execute_result"
        }
      ],
      "source": [
        "df[187].value_counts()"
      ]
    },
    {
      "cell_type": "markdown",
      "id": "908bdbfb",
      "metadata": {
        "id": "908bdbfb"
      },
      "source": [
        "converting the target values to integers"
      ]
    },
    {
      "cell_type": "code",
      "execution_count": null,
      "id": "4d1389c2",
      "metadata": {
        "id": "4d1389c2"
      },
      "outputs": [],
      "source": [
        "df[187]=df[187].astype(int)"
      ]
    },
    {
      "cell_type": "code",
      "execution_count": null,
      "id": "a41b3b36",
      "metadata": {
        "id": "a41b3b36",
        "outputId": "feed2022-617c-4f65-c80d-c9d7d7c096e2"
      },
      "outputs": [
        {
          "data": {
            "text/plain": [
              "0    90589\n",
              "4     8039\n",
              "2     7236\n",
              "1     2779\n",
              "3      803\n",
              "Name: 187, dtype: int64"
            ]
          },
          "execution_count": 8,
          "metadata": {},
          "output_type": "execute_result"
        }
      ],
      "source": [
        "df[187].value_counts()"
      ]
    },
    {
      "cell_type": "markdown",
      "id": "bcb5cf1d",
      "metadata": {
        "id": "bcb5cf1d"
      },
      "source": [
        "Checking for Null values"
      ]
    },
    {
      "cell_type": "code",
      "execution_count": null,
      "id": "5e8b98ad",
      "metadata": {
        "id": "5e8b98ad",
        "outputId": "a149148a-c6d3-457f-b3b0-7a79eac35eae"
      },
      "outputs": [
        {
          "data": {
            "text/plain": [
              "0"
            ]
          },
          "execution_count": 9,
          "metadata": {},
          "output_type": "execute_result"
        }
      ],
      "source": [
        "df.isnull().sum().sum()"
      ]
    },
    {
      "cell_type": "markdown",
      "id": "cd3e41e4",
      "metadata": {
        "id": "cd3e41e4"
      },
      "source": [
        "# EDA"
      ]
    },
    {
      "cell_type": "code",
      "execution_count": null,
      "id": "64558b77",
      "metadata": {
        "id": "64558b77",
        "outputId": "419ebab0-dbed-4315-fac6-f6bb53ab13fe"
      },
      "outputs": [
        {
          "data": {
            "text/plain": [
              "<matplotlib.legend.Legend at 0x23c4e303040>"
            ]
          },
          "execution_count": 10,
          "metadata": {},
          "output_type": "execute_result"
        },
        {
          "data": {
            "image/png": "[encoded data removed]",
            "text/plain": [
              "<Figure size 1224x360 with 2 Axes>"
            ]
          },
          "metadata": {
            "needs_background": "light"
          },
          "output_type": "display_data"
        }
      ],
      "source": [
        "plt.figure(figsize=(17,5))\n",
        "plt.subplot(121)\n",
        "test_row_1=np.array(df.iloc[np.random.randint(0,len(df))])\n",
        "plt.plot(test_row_1[:-1],label=test_row_1[-1],color='r')\n",
        "plt.legend()\n",
        "\n",
        "plt.subplot(122)\n",
        "test_row_2=np.array(df.iloc[np.random.randint(0,len(df))])\n",
        "plt.plot(test_row_2[:-1],label=test_row_2[-1])\n",
        "plt.legend()"
      ]
    },
    {
      "cell_type": "markdown",
      "id": "e0afd255",
      "metadata": {
        "id": "e0afd255"
      },
      "source": [
        "# Class Descriptions"
      ]
    },
    {
      "cell_type": "markdown",
      "id": "b3249473",
      "metadata": {
        "id": "b3249473"
      },
      "source": [
        "Normal beat ('N'): 0\n",
        "<br/>\n",
        "Supraventricular ectopic beats ('S'): 1\n",
        "<br/>\n",
        "Ventricular ectopic beats ('V'): 2\n",
        "<br/>\n",
        "Fusion Beats ('F'): 3\n",
        "<br/>\n",
        "Unknown Beats ('Q'): 4"
      ]
    },
    {
      "cell_type": "code",
      "execution_count": null,
      "id": "8feb1ac3",
      "metadata": {
        "id": "8feb1ac3",
        "outputId": "f4a50dc5-d64a-462e-98f4-0afd4850b890"
      },
      "outputs": [
        {
          "data": {
            "image/png": "[encoded data removed]",
            "text/plain": [
              "<Figure size 720x720 with 5 Axes>"
            ]
          },
          "metadata": {
            "needs_background": "light"
          },
          "output_type": "display_data"
        }
      ],
      "source": [
        "# plot ECG data belonging to each class label\n",
        "label = [\"Normal\",\"Supraventricular\",\"Ventricular\",\n",
        "         \"Fusion\",\"Unknown\"]\n",
        "color = ['blue','red','green','orange','purple']\n",
        "fig, ax = plt.subplots(5, 1, sharex=True, sharey=True,figsize=(10,10))\n",
        "for i, row in enumerate(ax):\n",
        "    row.plot((df[df[187] == i].iloc[0])[:-1], label=label[i], color=color[i])\n",
        "    row.legend()"
      ]
    },
    {
      "cell_type": "code",
      "execution_count": null,
      "id": "576d8109",
      "metadata": {
        "id": "576d8109",
        "outputId": "1437f4c6-b9fa-44fe-dfe9-e98dba5128ab"
      },
      "outputs": [
        {
          "data": {
            "text/plain": [
              "([<matplotlib.patches.Wedge at 0x23c00453520>,\n",
              "  <matplotlib.patches.Wedge at 0x23c00453a60>,\n",
              "  <matplotlib.patches.Wedge at 0x23c00453f70>,\n",
              "  <matplotlib.patches.Wedge at 0x23c000c2490>,\n",
              "  <matplotlib.patches.Wedge at 0x23c000c2970>],\n",
              " [Text(-0.9427544126347679, 0.5667575473319026, 'Normal'),\n",
              "  Text(0.7244876615439377, -0.8277183266489856, 'Unknown'),\n",
              "  Text(1.0073606227948213, -0.4418422519886819, 'Ventricular'),\n",
              "  Text(1.0912977987617831, -0.13809096428690254, 'Supraventricular'),\n",
              "  Text(1.0997078011098815, -0.02535255762382736, 'Fusion')])"
            ]
          },
          "execution_count": 12,
          "metadata": {},
          "output_type": "execute_result"
        },
        {
          "data": {
            "image/png": "[encoded data removed]",
            "text/plain": [
              "<Figure size 720x720 with 1 Axes>"
            ]
          },
          "metadata": {},
          "output_type": "display_data"
        }
      ],
      "source": [
        "# plot number of records in each category\n",
        "plt.figure(figsize=(10,10))\n",
        "plt.pie(df[187].value_counts(), labels = [\"Normal\",\"Unknown\",\"Ventricular\",\"Supraventricular\",\"Fusion\"])#,colors= ['blue','red','green','orange','purple'],autopct='%2.1f%%')"
      ]
    },
    {
      "cell_type": "markdown",
      "id": "c3b79cef",
      "metadata": {
        "id": "c3b79cef"
      },
      "source": [
        "# Modeling imbalanced data with logistic Classification"
      ]
    },
    {
      "cell_type": "code",
      "execution_count": null,
      "id": "31afc57e",
      "metadata": {
        "id": "31afc57e"
      },
      "outputs": [],
      "source": [
        "X=df.iloc[:,:-1]\n",
        "y=df.iloc[:,-1]"
      ]
    },
    {
      "cell_type": "markdown",
      "id": "82bd9a2a",
      "metadata": {
        "id": "82bd9a2a"
      },
      "source": [
        "Train/Test Split"
      ]
    },
    {
      "cell_type": "code",
      "execution_count": null,
      "id": "7c1d651d",
      "metadata": {
        "id": "7c1d651d"
      },
      "outputs": [],
      "source": [
        "X_train, X_test, y_train, y_test = train_test_split(X, y, test_size=0.25, random_state=28)"
      ]
    },
    {
      "cell_type": "code",
      "execution_count": null,
      "id": "98aaf852",
      "metadata": {
        "id": "98aaf852",
        "outputId": "51f992c9-ddd6-411d-c303-93d6826a76b5"
      },
      "outputs": [
        {
          "name": "stdout",
          "output_type": "stream",
          "text": [
            "(82084, 187)\n",
            "(82084,)\n",
            "(27362, 187)\n",
            "(27362,)\n"
          ]
        }
      ],
      "source": [
        "print(X_train.shape)\n",
        "print(y_train.shape)\n",
        "print(X_test.shape)\n",
        "print(y_test.shape)"
      ]
    },
    {
      "cell_type": "markdown",
      "id": "35f952d3",
      "metadata": {
        "id": "35f952d3"
      },
      "source": [
        "# Logistic Regression"
      ]
    },
    {
      "cell_type": "code",
      "execution_count": null,
      "id": "1fed9128",
      "metadata": {
        "id": "1fed9128"
      },
      "outputs": [],
      "source": [
        "log_reg=LogisticRegression()"
      ]
    },
    {
      "cell_type": "code",
      "execution_count": null,
      "id": "e4705797",
      "metadata": {
        "id": "e4705797",
        "outputId": "fa582d08-3e3e-4528-b6c7-e0fee5bbdf86"
      },
      "outputs": [
        {
          "name": "stderr",
          "output_type": "stream",
          "text": [
            "C:\\Users\\pramo\\anaconda3\\lib\\site-packages\\sklearn\\linear_model\\_logistic.py:444: ConvergenceWarning: lbfgs failed to converge (status=1):\n",
            "STOP: TOTAL NO. of ITERATIONS REACHED LIMIT.\n",
            "\n",
            "Increase the number of iterations (max_iter) or scale the data as shown in:\n",
            "    https://scikit-learn.org/stable/modules/preprocessing.html\n",
            "Please also refer to the documentation for alternative solver options:\n",
            "    https://scikit-learn.org/stable/modules/linear_model.html#logistic-regression\n",
            "  n_iter_i = _check_optimize_result(\n"
          ]
        },
        {
          "data": {
            "text/html": [
              "<style>#sk-container-id-1 {color: black;background-color: white;}#sk-container-id-1 pre{padding: 0;}#sk-container-id-1 div.sk-toggleable {background-color: white;}#sk-container-id-1 label.sk-toggleable__label {cursor: pointer;display: block;width: 100%;margin-bottom: 0;padding: 0.3em;box-sizing: border-box;text-align: center;}#sk-container-id-1 label.sk-toggleable__label-arrow:before {content: \"▸\";float: left;margin-right: 0.25em;color: #696969;}#sk-container-id-1 label.sk-toggleable__label-arrow:hover:before {color: black;}#sk-container-id-1 div.sk-estimator:hover label.sk-toggleable__label-arrow:before {color: black;}#sk-container-id-1 div.sk-toggleable__content {max-height: 0;max-width: 0;overflow: hidden;text-align: left;background-color: #f0f8ff;}#sk-container-id-1 div.sk-toggleable__content pre {margin: 0.2em;color: black;border-radius: 0.25em;background-color: #f0f8ff;}#sk-container-id-1 input.sk-toggleable__control:checked~div.sk-toggleable__content {max-height: 200px;max-width: 100%;overflow: auto;}#sk-container-id-1 input.sk-toggleable__control:checked~label.sk-toggleable__label-arrow:before {content: \"▾\";}#sk-container-id-1 div.sk-estimator input.sk-toggleable__control:checked~label.sk-toggleable__label {background-color: #d4ebff;}#sk-container-id-1 div.sk-label input.sk-toggleable__control:checked~label.sk-toggleable__label {background-color: #d4ebff;}#sk-container-id-1 input.sk-hidden--visually {border: 0;clip: rect(1px 1px 1px 1px);clip: rect(1px, 1px, 1px, 1px);height: 1px;margin: -1px;overflow: hidden;padding: 0;position: absolute;width: 1px;}#sk-container-id-1 div.sk-estimator {font-family: monospace;background-color: #f0f8ff;border: 1px dotted black;border-radius: 0.25em;box-sizing: border-box;margin-bottom: 0.5em;}#sk-container-id-1 div.sk-estimator:hover {background-color: #d4ebff;}#sk-container-id-1 div.sk-parallel-item::after {content: \"\";width: 100%;border-bottom: 1px solid gray;flex-grow: 1;}#sk-container-id-1 div.sk-label:hover label.sk-toggleable__label {background-color: #d4ebff;}#sk-container-id-1 div.sk-serial::before {content: \"\";position: absolute;border-left: 1px solid gray;box-sizing: border-box;top: 0;bottom: 0;left: 50%;z-index: 0;}#sk-container-id-1 div.sk-serial {display: flex;flex-direction: column;align-items: center;background-color: white;padding-right: 0.2em;padding-left: 0.2em;position: relative;}#sk-container-id-1 div.sk-item {position: relative;z-index: 1;}#sk-container-id-1 div.sk-parallel {display: flex;align-items: stretch;justify-content: center;background-color: white;position: relative;}#sk-container-id-1 div.sk-item::before, #sk-container-id-1 div.sk-parallel-item::before {content: \"\";position: absolute;border-left: 1px solid gray;box-sizing: border-box;top: 0;bottom: 0;left: 50%;z-index: -1;}#sk-container-id-1 div.sk-parallel-item {display: flex;flex-direction: column;z-index: 1;position: relative;background-color: white;}#sk-container-id-1 div.sk-parallel-item:first-child::after {align-self: flex-end;width: 50%;}#sk-container-id-1 div.sk-parallel-item:last-child::after {align-self: flex-start;width: 50%;}#sk-container-id-1 div.sk-parallel-item:only-child::after {width: 0;}#sk-container-id-1 div.sk-dashed-wrapped {border: 1px dashed gray;margin: 0 0.4em 0.5em 0.4em;box-sizing: border-box;padding-bottom: 0.4em;background-color: white;}#sk-container-id-1 div.sk-label label {font-family: monospace;font-weight: bold;display: inline-block;line-height: 1.2em;}#sk-container-id-1 div.sk-label-container {text-align: center;}#sk-container-id-1 div.sk-container {/* jupyter's `normalize.less` sets `[hidden] { display: none; }` but bootstrap.min.css set `[hidden] { display: none !important; }` so we also need the `!important` here to be able to override the default hidden behavior on the sphinx rendered scikit-learn.org. See: https://github.com/scikit-learn/scikit-learn/issues/21755 */display: inline-block !important;position: relative;}#sk-container-id-1 div.sk-text-repr-fallback {display: none;}</style><div id=\"sk-container-id-1\" class=\"sk-top-container\"><div class=\"sk-text-repr-fallback\"><pre>LogisticRegression()</pre><b>In a Jupyter environment, please rerun this cell to show the HTML representation or trust the notebook. <br />On GitHub, the HTML representation is unable to render, please try loading this page with nbviewer.org.</b></div><div class=\"sk-container\" hidden><div class=\"sk-item\"><div class=\"sk-estimator sk-toggleable\"><input class=\"sk-toggleable__control sk-hidden--visually\" id=\"sk-estimator-id-1\" type=\"checkbox\" checked><label for=\"sk-estimator-id-1\" class=\"sk-toggleable__label sk-toggleable__label-arrow\">LogisticRegression</label><div class=\"sk-toggleable__content\"><pre>LogisticRegression()</pre></div></div></div></div></div>"
            ],
            "text/plain": [
              "LogisticRegression()"
            ]
          },
          "execution_count": 17,
          "metadata": {},
          "output_type": "execute_result"
        }
      ],
      "source": [
        "log_reg.fit(X_train,y_train)"
      ]
    },
    {
      "cell_type": "code",
      "execution_count": null,
      "id": "39ba0fb3",
      "metadata": {
        "id": "39ba0fb3",
        "outputId": "71dee3a3-b4c9-4345-ef48-a924ecae36f7"
      },
      "outputs": [
        {
          "name": "stdout",
          "output_type": "stream",
          "text": [
            "0.9129449601637307\n",
            "\n",
            "              precision    recall  f1-score   support\n",
            "\n",
            "           0       0.92      0.99      0.95     22592\n",
            "           1       0.84      0.39      0.54       701\n",
            "           2       0.66      0.33      0.44      1789\n",
            "           3       0.60      0.20      0.30       194\n",
            "           4       0.96      0.87      0.91      2086\n",
            "\n",
            "    accuracy                           0.91     27362\n",
            "   macro avg       0.80      0.55      0.63     27362\n",
            "weighted avg       0.90      0.91      0.90     27362\n",
            "\n"
          ]
        }
      ],
      "source": [
        "y_pred=log_reg.predict(X_test)\n",
        "print(accuracy_score(y_test,y_pred))\n",
        "print()\n",
        "print(classification_report(y_test,y_pred))"
      ]
    },
    {
      "cell_type": "markdown",
      "id": "e3688ace",
      "metadata": {
        "id": "e3688ace"
      },
      "source": [
        "# Random Forest Classification"
      ]
    },
    {
      "cell_type": "code",
      "execution_count": null,
      "id": "05cd3918",
      "metadata": {
        "id": "05cd3918"
      },
      "outputs": [],
      "source": [
        "rf=RandomForestClassifier()"
      ]
    },
    {
      "cell_type": "code",
      "execution_count": null,
      "id": "5892832c",
      "metadata": {
        "id": "5892832c",
        "outputId": "6576f742-55fd-4a30-cb5e-efe90ec845af"
      },
      "outputs": [
        {
          "data": {
            "text/html": [
              "<style>#sk-container-id-2 {color: black;background-color: white;}#sk-container-id-2 pre{padding: 0;}#sk-container-id-2 div.sk-toggleable {background-color: white;}#sk-container-id-2 label.sk-toggleable__label {cursor: pointer;display: block;width: 100%;margin-bottom: 0;padding: 0.3em;box-sizing: border-box;text-align: center;}#sk-container-id-2 label.sk-toggleable__label-arrow:before {content: \"▸\";float: left;margin-right: 0.25em;color: #696969;}#sk-container-id-2 label.sk-toggleable__label-arrow:hover:before {color: black;}#sk-container-id-2 div.sk-estimator:hover label.sk-toggleable__label-arrow:before {color: black;}#sk-container-id-2 div.sk-toggleable__content {max-height: 0;max-width: 0;overflow: hidden;text-align: left;background-color: #f0f8ff;}#sk-container-id-2 div.sk-toggleable__content pre {margin: 0.2em;color: black;border-radius: 0.25em;background-color: #f0f8ff;}#sk-container-id-2 input.sk-toggleable__control:checked~div.sk-toggleable__content {max-height: 200px;max-width: 100%;overflow: auto;}#sk-container-id-2 input.sk-toggleable__control:checked~label.sk-toggleable__label-arrow:before {content: \"▾\";}#sk-container-id-2 div.sk-estimator input.sk-toggleable__control:checked~label.sk-toggleable__label {background-color: #d4ebff;}#sk-container-id-2 div.sk-label input.sk-toggleable__control:checked~label.sk-toggleable__label {background-color: #d4ebff;}#sk-container-id-2 input.sk-hidden--visually {border: 0;clip: rect(1px 1px 1px 1px);clip: rect(1px, 1px, 1px, 1px);height: 1px;margin: -1px;overflow: hidden;padding: 0;position: absolute;width: 1px;}#sk-container-id-2 div.sk-estimator {font-family: monospace;background-color: #f0f8ff;border: 1px dotted black;border-radius: 0.25em;box-sizing: border-box;margin-bottom: 0.5em;}#sk-container-id-2 div.sk-estimator:hover {background-color: #d4ebff;}#sk-container-id-2 div.sk-parallel-item::after {content: \"\";width: 100%;border-bottom: 1px solid gray;flex-grow: 1;}#sk-container-id-2 div.sk-label:hover label.sk-toggleable__label {background-color: #d4ebff;}#sk-container-id-2 div.sk-serial::before {content: \"\";position: absolute;border-left: 1px solid gray;box-sizing: border-box;top: 0;bottom: 0;left: 50%;z-index: 0;}#sk-container-id-2 div.sk-serial {display: flex;flex-direction: column;align-items: center;background-color: white;padding-right: 0.2em;padding-left: 0.2em;position: relative;}#sk-container-id-2 div.sk-item {position: relative;z-index: 1;}#sk-container-id-2 div.sk-parallel {display: flex;align-items: stretch;justify-content: center;background-color: white;position: relative;}#sk-container-id-2 div.sk-item::before, #sk-container-id-2 div.sk-parallel-item::before {content: \"\";position: absolute;border-left: 1px solid gray;box-sizing: border-box;top: 0;bottom: 0;left: 50%;z-index: -1;}#sk-container-id-2 div.sk-parallel-item {display: flex;flex-direction: column;z-index: 1;position: relative;background-color: white;}#sk-container-id-2 div.sk-parallel-item:first-child::after {align-self: flex-end;width: 50%;}#sk-container-id-2 div.sk-parallel-item:last-child::after {align-self: flex-start;width: 50%;}#sk-container-id-2 div.sk-parallel-item:only-child::after {width: 0;}#sk-container-id-2 div.sk-dashed-wrapped {border: 1px dashed gray;margin: 0 0.4em 0.5em 0.4em;box-sizing: border-box;padding-bottom: 0.4em;background-color: white;}#sk-container-id-2 div.sk-label label {font-family: monospace;font-weight: bold;display: inline-block;line-height: 1.2em;}#sk-container-id-2 div.sk-label-container {text-align: center;}#sk-container-id-2 div.sk-container {/* jupyter's `normalize.less` sets `[hidden] { display: none; }` but bootstrap.min.css set `[hidden] { display: none !important; }` so we also need the `!important` here to be able to override the default hidden behavior on the sphinx rendered scikit-learn.org. See: https://github.com/scikit-learn/scikit-learn/issues/21755 */display: inline-block !important;position: relative;}#sk-container-id-2 div.sk-text-repr-fallback {display: none;}</style><div id=\"sk-container-id-2\" class=\"sk-top-container\"><div class=\"sk-text-repr-fallback\"><pre>RandomForestClassifier()</pre><b>In a Jupyter environment, please rerun this cell to show the HTML representation or trust the notebook. <br />On GitHub, the HTML representation is unable to render, please try loading this page with nbviewer.org.</b></div><div class=\"sk-container\" hidden><div class=\"sk-item\"><div class=\"sk-estimator sk-toggleable\"><input class=\"sk-toggleable__control sk-hidden--visually\" id=\"sk-estimator-id-2\" type=\"checkbox\" checked><label for=\"sk-estimator-id-2\" class=\"sk-toggleable__label sk-toggleable__label-arrow\">RandomForestClassifier</label><div class=\"sk-toggleable__content\"><pre>RandomForestClassifier()</pre></div></div></div></div></div>"
            ],
            "text/plain": [
              "RandomForestClassifier()"
            ]
          },
          "execution_count": 20,
          "metadata": {},
          "output_type": "execute_result"
        }
      ],
      "source": [
        "rf.fit(X_train,y_train)"
      ]
    },
    {
      "cell_type": "code",
      "execution_count": null,
      "id": "e5448b8f",
      "metadata": {
        "id": "e5448b8f",
        "outputId": "40daeeb3-d464-4d7f-d888-e2cf635774e8"
      },
      "outputs": [
        {
          "name": "stdout",
          "output_type": "stream",
          "text": [
            "0.9760982384328631\n",
            "\n",
            "              precision    recall  f1-score   support\n",
            "\n",
            "           0       0.97      1.00      0.99     22592\n",
            "           1       0.98      0.63      0.77       701\n",
            "           2       0.98      0.89      0.94      1789\n",
            "           3       0.92      0.60      0.72       194\n",
            "           4       0.99      0.95      0.97      2086\n",
            "\n",
            "    accuracy                           0.98     27362\n",
            "   macro avg       0.97      0.81      0.88     27362\n",
            "weighted avg       0.98      0.98      0.97     27362\n",
            "\n"
          ]
        }
      ],
      "source": [
        "y_pred=rf.predict(X_test)\n",
        "print(accuracy_score(y_test,y_pred))\n",
        "print()\n",
        "print(classification_report(y_test,y_pred))"
      ]
    },
    {
      "cell_type": "code",
      "execution_count": null,
      "id": "e6849724",
      "metadata": {
        "id": "e6849724"
      },
      "outputs": [],
      "source": [
        "cm_matrix_rf = confusion_matrix(y_test, y_pred)"
      ]
    },
    {
      "cell_type": "code",
      "execution_count": null,
      "id": "1faac14e",
      "metadata": {
        "id": "1faac14e",
        "outputId": "d874098b-53d4-44fe-b96f-3b7f34f0e5ae"
      },
      "outputs": [
        {
          "data": {
            "text/plain": [
              "<AxesSubplot:>"
            ]
          },
          "execution_count": 41,
          "metadata": {},
          "output_type": "execute_result"
        },
        {
          "data": {
            "image/png": "[encoded data removed]",
            "text/plain": [
              "<Figure size 432x288 with 2 Axes>"
            ]
          },
          "metadata": {
            "needs_background": "light"
          },
          "output_type": "display_data"
        }
      ],
      "source": [
        "sns.heatmap(cm_matrix_rf, annot=True)"
      ]
    },
    {
      "cell_type": "markdown",
      "id": "3fdf4e6d",
      "metadata": {
        "id": "3fdf4e6d"
      },
      "source": [
        "# XgBoost Classification"
      ]
    },
    {
      "cell_type": "code",
      "execution_count": null,
      "id": "e3fff96c",
      "metadata": {
        "id": "e3fff96c"
      },
      "outputs": [],
      "source": [
        "xg_clf = GradientBoostingClassifier(n_estimators=100, learning_rate=1.0,max_depth=1, random_state=0)"
      ]
    },
    {
      "cell_type": "code",
      "execution_count": null,
      "id": "58b416dd",
      "metadata": {
        "id": "58b416dd",
        "outputId": "59aceb85-629f-4eb4-e7d7-fc88acc6f73d"
      },
      "outputs": [
        {
          "data": {
            "text/html": [
              "<style>#sk-container-id-3 {color: black;background-color: white;}#sk-container-id-3 pre{padding: 0;}#sk-container-id-3 div.sk-toggleable {background-color: white;}#sk-container-id-3 label.sk-toggleable__label {cursor: pointer;display: block;width: 100%;margin-bottom: 0;padding: 0.3em;box-sizing: border-box;text-align: center;}#sk-container-id-3 label.sk-toggleable__label-arrow:before {content: \"▸\";float: left;margin-right: 0.25em;color: #696969;}#sk-container-id-3 label.sk-toggleable__label-arrow:hover:before {color: black;}#sk-container-id-3 div.sk-estimator:hover label.sk-toggleable__label-arrow:before {color: black;}#sk-container-id-3 div.sk-toggleable__content {max-height: 0;max-width: 0;overflow: hidden;text-align: left;background-color: #f0f8ff;}#sk-container-id-3 div.sk-toggleable__content pre {margin: 0.2em;color: black;border-radius: 0.25em;background-color: #f0f8ff;}#sk-container-id-3 input.sk-toggleable__control:checked~div.sk-toggleable__content {max-height: 200px;max-width: 100%;overflow: auto;}#sk-container-id-3 input.sk-toggleable__control:checked~label.sk-toggleable__label-arrow:before {content: \"▾\";}#sk-container-id-3 div.sk-estimator input.sk-toggleable__control:checked~label.sk-toggleable__label {background-color: #d4ebff;}#sk-container-id-3 div.sk-label input.sk-toggleable__control:checked~label.sk-toggleable__label {background-color: #d4ebff;}#sk-container-id-3 input.sk-hidden--visually {border: 0;clip: rect(1px 1px 1px 1px);clip: rect(1px, 1px, 1px, 1px);height: 1px;margin: -1px;overflow: hidden;padding: 0;position: absolute;width: 1px;}#sk-container-id-3 div.sk-estimator {font-family: monospace;background-color: #f0f8ff;border: 1px dotted black;border-radius: 0.25em;box-sizing: border-box;margin-bottom: 0.5em;}#sk-container-id-3 div.sk-estimator:hover {background-color: #d4ebff;}#sk-container-id-3 div.sk-parallel-item::after {content: \"\";width: 100%;border-bottom: 1px solid gray;flex-grow: 1;}#sk-container-id-3 div.sk-label:hover label.sk-toggleable__label {background-color: #d4ebff;}#sk-container-id-3 div.sk-serial::before {content: \"\";position: absolute;border-left: 1px solid gray;box-sizing: border-box;top: 0;bottom: 0;left: 50%;z-index: 0;}#sk-container-id-3 div.sk-serial {display: flex;flex-direction: column;align-items: center;background-color: white;padding-right: 0.2em;padding-left: 0.2em;position: relative;}#sk-container-id-3 div.sk-item {position: relative;z-index: 1;}#sk-container-id-3 div.sk-parallel {display: flex;align-items: stretch;justify-content: center;background-color: white;position: relative;}#sk-container-id-3 div.sk-item::before, #sk-container-id-3 div.sk-parallel-item::before {content: \"\";position: absolute;border-left: 1px solid gray;box-sizing: border-box;top: 0;bottom: 0;left: 50%;z-index: -1;}#sk-container-id-3 div.sk-parallel-item {display: flex;flex-direction: column;z-index: 1;position: relative;background-color: white;}#sk-container-id-3 div.sk-parallel-item:first-child::after {align-self: flex-end;width: 50%;}#sk-container-id-3 div.sk-parallel-item:last-child::after {align-self: flex-start;width: 50%;}#sk-container-id-3 div.sk-parallel-item:only-child::after {width: 0;}#sk-container-id-3 div.sk-dashed-wrapped {border: 1px dashed gray;margin: 0 0.4em 0.5em 0.4em;box-sizing: border-box;padding-bottom: 0.4em;background-color: white;}#sk-container-id-3 div.sk-label label {font-family: monospace;font-weight: bold;display: inline-block;line-height: 1.2em;}#sk-container-id-3 div.sk-label-container {text-align: center;}#sk-container-id-3 div.sk-container {/* jupyter's `normalize.less` sets `[hidden] { display: none; }` but bootstrap.min.css set `[hidden] { display: none !important; }` so we also need the `!important` here to be able to override the default hidden behavior on the sphinx rendered scikit-learn.org. See: https://github.com/scikit-learn/scikit-learn/issues/21755 */display: inline-block !important;position: relative;}#sk-container-id-3 div.sk-text-repr-fallback {display: none;}</style><div id=\"sk-container-id-3\" class=\"sk-top-container\"><div class=\"sk-text-repr-fallback\"><pre>GradientBoostingClassifier(learning_rate=1.0, max_depth=1, random_state=0)</pre><b>In a Jupyter environment, please rerun this cell to show the HTML representation or trust the notebook. <br />On GitHub, the HTML representation is unable to render, please try loading this page with nbviewer.org.</b></div><div class=\"sk-container\" hidden><div class=\"sk-item\"><div class=\"sk-estimator sk-toggleable\"><input class=\"sk-toggleable__control sk-hidden--visually\" id=\"sk-estimator-id-3\" type=\"checkbox\" checked><label for=\"sk-estimator-id-3\" class=\"sk-toggleable__label sk-toggleable__label-arrow\">GradientBoostingClassifier</label><div class=\"sk-toggleable__content\"><pre>GradientBoostingClassifier(learning_rate=1.0, max_depth=1, random_state=0)</pre></div></div></div></div></div>"
            ],
            "text/plain": [
              "GradientBoostingClassifier(learning_rate=1.0, max_depth=1, random_state=0)"
            ]
          },
          "execution_count": 32,
          "metadata": {},
          "output_type": "execute_result"
        }
      ],
      "source": [
        "xg_clf.fit(X_train, y_train)"
      ]
    },
    {
      "cell_type": "code",
      "execution_count": null,
      "id": "dbb8da76",
      "metadata": {
        "id": "dbb8da76",
        "outputId": "b55bdea0-eda4-44b4-a549-5e94a9b6c354"
      },
      "outputs": [
        {
          "name": "stdout",
          "output_type": "stream",
          "text": [
            "0.8444192675973978\n",
            "\n",
            "              precision    recall  f1-score   support\n",
            "\n",
            "           0       0.89      0.95      0.92     22592\n",
            "           1       0.35      0.14      0.20       701\n",
            "           2       0.69      0.25      0.36      1789\n",
            "           3       0.00      0.00      0.00       194\n",
            "           4       0.45      0.52      0.48      2086\n",
            "\n",
            "    accuracy                           0.84     27362\n",
            "   macro avg       0.48      0.37      0.39     27362\n",
            "weighted avg       0.83      0.84      0.83     27362\n",
            "\n"
          ]
        }
      ],
      "source": [
        "y_pred=xg_clf.predict(X_test)\n",
        "print(accuracy_score(y_test,y_pred))\n",
        "print()\n",
        "print(classification_report(y_test,y_pred))"
      ]
    },
    {
      "cell_type": "markdown",
      "id": "efabe95f",
      "metadata": {
        "id": "efabe95f"
      },
      "source": [
        "# Handling Imbalanced Dataset"
      ]
    },
    {
      "cell_type": "code",
      "execution_count": null,
      "id": "1cbb3f6f",
      "metadata": {
        "id": "1cbb3f6f"
      },
      "outputs": [],
      "source": [
        "import imblearn\n",
        "from imblearn.over_sampling import SMOTE"
      ]
    },
    {
      "cell_type": "code",
      "execution_count": null,
      "id": "78cf5432",
      "metadata": {
        "id": "78cf5432",
        "outputId": "2370d00f-d3eb-49fa-afed-72f8a335783d"
      },
      "outputs": [
        {
          "data": {
            "text/plain": [
              "0    67997\n",
              "4     5953\n",
              "2     5447\n",
              "1     2078\n",
              "3      609\n",
              "Name: 187, dtype: int64"
            ]
          },
          "execution_count": 23,
          "metadata": {},
          "output_type": "execute_result"
        }
      ],
      "source": [
        "y_train.value_counts()"
      ]
    },
    {
      "cell_type": "code",
      "execution_count": null,
      "id": "66ed602b",
      "metadata": {
        "id": "66ed602b"
      },
      "outputs": [],
      "source": [
        "smote=SMOTE()\n",
        "X_oversampled,y_oversampled=smote.fit_resample(X_train,y_train)"
      ]
    },
    {
      "cell_type": "code",
      "execution_count": null,
      "id": "72cb2a70",
      "metadata": {
        "id": "72cb2a70",
        "outputId": "4de4633c-15d2-468b-c88c-e6156c2b0ae7"
      },
      "outputs": [
        {
          "data": {
            "text/plain": [
              "0    67997\n",
              "4    67997\n",
              "2    67997\n",
              "1    67997\n",
              "3    67997\n",
              "Name: 187, dtype: int64"
            ]
          },
          "execution_count": 25,
          "metadata": {},
          "output_type": "execute_result"
        }
      ],
      "source": [
        "y_oversampled.value_counts()"
      ]
    },
    {
      "cell_type": "markdown",
      "id": "30cdc906",
      "metadata": {
        "id": "30cdc906"
      },
      "source": [
        "# Model training after SMOTE"
      ]
    },
    {
      "cell_type": "markdown",
      "source": [
        "### Logistic Regression"
      ],
      "metadata": {
        "id": "5aspil_UXMcP"
      },
      "id": "5aspil_UXMcP"
    },
    {
      "cell_type": "code",
      "execution_count": null,
      "id": "9a9e4a6e",
      "metadata": {
        "id": "9a9e4a6e"
      },
      "outputs": [],
      "source": [
        "log_reg_resampled=LogisticRegression()"
      ]
    },
    {
      "cell_type": "code",
      "execution_count": null,
      "id": "636c03dc",
      "metadata": {
        "id": "636c03dc",
        "outputId": "fdef80a2-03e8-4ff8-cbad-12b6916ccea5"
      },
      "outputs": [
        {
          "name": "stdout",
          "output_type": "stream",
          "text": [
            "0.662341934069147\n",
            "\n",
            "              precision    recall  f1-score   support\n",
            "\n",
            "           0       0.97      0.63      0.76     22592\n",
            "           1       0.15      0.71      0.24       701\n",
            "           2       0.28      0.74      0.41      1789\n",
            "           3       0.09      0.88      0.16       194\n",
            "           4       0.72      0.91      0.81      2086\n",
            "\n",
            "    accuracy                           0.66     27362\n",
            "   macro avg       0.44      0.78      0.48     27362\n",
            "weighted avg       0.88      0.66      0.73     27362\n",
            "\n"
          ]
        },
        {
          "name": "stderr",
          "output_type": "stream",
          "text": [
            "C:\\Users\\pramo\\anaconda3\\lib\\site-packages\\sklearn\\linear_model\\_logistic.py:444: ConvergenceWarning: lbfgs failed to converge (status=1):\n",
            "STOP: TOTAL NO. of ITERATIONS REACHED LIMIT.\n",
            "\n",
            "Increase the number of iterations (max_iter) or scale the data as shown in:\n",
            "    https://scikit-learn.org/stable/modules/preprocessing.html\n",
            "Please also refer to the documentation for alternative solver options:\n",
            "    https://scikit-learn.org/stable/modules/linear_model.html#logistic-regression\n",
            "  n_iter_i = _check_optimize_result(\n"
          ]
        }
      ],
      "source": [
        "log_reg_resampled.fit(X_oversampled,y_oversampled)\n",
        "y_pred=log_reg_resampled.predict(X_test)\n",
        "print(accuracy_score(y_test,y_pred))\n",
        "print()\n",
        "print(classification_report(y_test,y_pred))"
      ]
    },
    {
      "cell_type": "markdown",
      "source": [
        "### Random Forest"
      ],
      "metadata": {
        "id": "QG8SzhcwXQo_"
      },
      "id": "QG8SzhcwXQo_"
    },
    {
      "cell_type": "code",
      "execution_count": null,
      "id": "cd4867c9",
      "metadata": {
        "id": "cd4867c9"
      },
      "outputs": [],
      "source": [
        "rf_resampled=RandomForestClassifier()"
      ]
    },
    {
      "cell_type": "code",
      "execution_count": null,
      "id": "5588dff8",
      "metadata": {
        "id": "5588dff8",
        "outputId": "21dc780d-15ce-4559-e5cb-c55b157661ce"
      },
      "outputs": [
        {
          "name": "stdout",
          "output_type": "stream",
          "text": [
            "0.9820554053066296\n",
            "\n",
            "              precision    recall  f1-score   support\n",
            "\n",
            "           0       0.99      0.99      0.99     22592\n",
            "           1       0.87      0.80      0.83       701\n",
            "           2       0.96      0.94      0.95      1789\n",
            "           3       0.84      0.79      0.82       194\n",
            "           4       0.99      0.97      0.98      2086\n",
            "\n",
            "    accuracy                           0.98     27362\n",
            "   macro avg       0.93      0.90      0.91     27362\n",
            "weighted avg       0.98      0.98      0.98     27362\n",
            "\n"
          ]
        }
      ],
      "source": [
        "rf_resampled.fit(X_oversampled,y_oversampled)\n",
        "y_pred=rf_resampled.predict(X_test)\n",
        "print(accuracy_score(y_test,y_pred))\n",
        "print()\n",
        "print(classification_report(y_test,y_pred))"
      ]
    },
    {
      "cell_type": "markdown",
      "source": [
        "### XGBoost"
      ],
      "metadata": {
        "id": "ReGaSGzwXVeI"
      },
      "id": "ReGaSGzwXVeI"
    },
    {
      "cell_type": "code",
      "execution_count": null,
      "id": "4595b80b",
      "metadata": {
        "id": "4595b80b"
      },
      "outputs": [],
      "source": [
        "xg_clf_resampled = GradientBoostingClassifier(n_estimators=100, learning_rate=1.0,max_depth=1, random_state=0)"
      ]
    },
    {
      "cell_type": "code",
      "execution_count": null,
      "id": "5c938fc5",
      "metadata": {
        "id": "5c938fc5",
        "outputId": "89e12ff0-e4b1-454b-d819-7c5d61564ede"
      },
      "outputs": [
        {
          "data": {
            "text/html": [
              "<style>#sk-container-id-4 {color: black;background-color: white;}#sk-container-id-4 pre{padding: 0;}#sk-container-id-4 div.sk-toggleable {background-color: white;}#sk-container-id-4 label.sk-toggleable__label {cursor: pointer;display: block;width: 100%;margin-bottom: 0;padding: 0.3em;box-sizing: border-box;text-align: center;}#sk-container-id-4 label.sk-toggleable__label-arrow:before {content: \"▸\";float: left;margin-right: 0.25em;color: #696969;}#sk-container-id-4 label.sk-toggleable__label-arrow:hover:before {color: black;}#sk-container-id-4 div.sk-estimator:hover label.sk-toggleable__label-arrow:before {color: black;}#sk-container-id-4 div.sk-toggleable__content {max-height: 0;max-width: 0;overflow: hidden;text-align: left;background-color: #f0f8ff;}#sk-container-id-4 div.sk-toggleable__content pre {margin: 0.2em;color: black;border-radius: 0.25em;background-color: #f0f8ff;}#sk-container-id-4 input.sk-toggleable__control:checked~div.sk-toggleable__content {max-height: 200px;max-width: 100%;overflow: auto;}#sk-container-id-4 input.sk-toggleable__control:checked~label.sk-toggleable__label-arrow:before {content: \"▾\";}#sk-container-id-4 div.sk-estimator input.sk-toggleable__control:checked~label.sk-toggleable__label {background-color: #d4ebff;}#sk-container-id-4 div.sk-label input.sk-toggleable__control:checked~label.sk-toggleable__label {background-color: #d4ebff;}#sk-container-id-4 input.sk-hidden--visually {border: 0;clip: rect(1px 1px 1px 1px);clip: rect(1px, 1px, 1px, 1px);height: 1px;margin: -1px;overflow: hidden;padding: 0;position: absolute;width: 1px;}#sk-container-id-4 div.sk-estimator {font-family: monospace;background-color: #f0f8ff;border: 1px dotted black;border-radius: 0.25em;box-sizing: border-box;margin-bottom: 0.5em;}#sk-container-id-4 div.sk-estimator:hover {background-color: #d4ebff;}#sk-container-id-4 div.sk-parallel-item::after {content: \"\";width: 100%;border-bottom: 1px solid gray;flex-grow: 1;}#sk-container-id-4 div.sk-label:hover label.sk-toggleable__label {background-color: #d4ebff;}#sk-container-id-4 div.sk-serial::before {content: \"\";position: absolute;border-left: 1px solid gray;box-sizing: border-box;top: 0;bottom: 0;left: 50%;z-index: 0;}#sk-container-id-4 div.sk-serial {display: flex;flex-direction: column;align-items: center;background-color: white;padding-right: 0.2em;padding-left: 0.2em;position: relative;}#sk-container-id-4 div.sk-item {position: relative;z-index: 1;}#sk-container-id-4 div.sk-parallel {display: flex;align-items: stretch;justify-content: center;background-color: white;position: relative;}#sk-container-id-4 div.sk-item::before, #sk-container-id-4 div.sk-parallel-item::before {content: \"\";position: absolute;border-left: 1px solid gray;box-sizing: border-box;top: 0;bottom: 0;left: 50%;z-index: -1;}#sk-container-id-4 div.sk-parallel-item {display: flex;flex-direction: column;z-index: 1;position: relative;background-color: white;}#sk-container-id-4 div.sk-parallel-item:first-child::after {align-self: flex-end;width: 50%;}#sk-container-id-4 div.sk-parallel-item:last-child::after {align-self: flex-start;width: 50%;}#sk-container-id-4 div.sk-parallel-item:only-child::after {width: 0;}#sk-container-id-4 div.sk-dashed-wrapped {border: 1px dashed gray;margin: 0 0.4em 0.5em 0.4em;box-sizing: border-box;padding-bottom: 0.4em;background-color: white;}#sk-container-id-4 div.sk-label label {font-family: monospace;font-weight: bold;display: inline-block;line-height: 1.2em;}#sk-container-id-4 div.sk-label-container {text-align: center;}#sk-container-id-4 div.sk-container {/* jupyter's `normalize.less` sets `[hidden] { display: none; }` but bootstrap.min.css set `[hidden] { display: none !important; }` so we also need the `!important` here to be able to override the default hidden behavior on the sphinx rendered scikit-learn.org. See: https://github.com/scikit-learn/scikit-learn/issues/21755 */display: inline-block !important;position: relative;}#sk-container-id-4 div.sk-text-repr-fallback {display: none;}</style><div id=\"sk-container-id-4\" class=\"sk-top-container\"><div class=\"sk-text-repr-fallback\"><pre>GradientBoostingClassifier(learning_rate=1.0, max_depth=1, random_state=0)</pre><b>In a Jupyter environment, please rerun this cell to show the HTML representation or trust the notebook. <br />On GitHub, the HTML representation is unable to render, please try loading this page with nbviewer.org.</b></div><div class=\"sk-container\" hidden><div class=\"sk-item\"><div class=\"sk-estimator sk-toggleable\"><input class=\"sk-toggleable__control sk-hidden--visually\" id=\"sk-estimator-id-4\" type=\"checkbox\" checked><label for=\"sk-estimator-id-4\" class=\"sk-toggleable__label sk-toggleable__label-arrow\">GradientBoostingClassifier</label><div class=\"sk-toggleable__content\"><pre>GradientBoostingClassifier(learning_rate=1.0, max_depth=1, random_state=0)</pre></div></div></div></div></div>"
            ],
            "text/plain": [
              "GradientBoostingClassifier(learning_rate=1.0, max_depth=1, random_state=0)"
            ]
          },
          "execution_count": 35,
          "metadata": {},
          "output_type": "execute_result"
        }
      ],
      "source": [
        "xg_clf_resampled.fit(X_oversampled,y_oversampled)"
      ]
    },
    {
      "cell_type": "code",
      "execution_count": null,
      "id": "f4ab6364",
      "metadata": {
        "id": "f4ab6364",
        "outputId": "de31f8a7-2408-426b-88d6-f22dc5e14376"
      },
      "outputs": [
        {
          "name": "stdout",
          "output_type": "stream",
          "text": [
            "0.7565601929683503\n",
            "\n",
            "              precision    recall  f1-score   support\n",
            "\n",
            "           0       0.98      0.73      0.84     22592\n",
            "           1       0.19      0.73      0.30       701\n",
            "           2       0.42      0.81      0.55      1789\n",
            "           3       0.10      0.88      0.17       194\n",
            "           4       0.83      0.96      0.89      2086\n",
            "\n",
            "    accuracy                           0.76     27362\n",
            "   macro avg       0.50      0.82      0.55     27362\n",
            "weighted avg       0.90      0.76      0.80     27362\n",
            "\n"
          ]
        }
      ],
      "source": [
        "y_pred = xg_clf_resampled.predict(X_test)\n",
        "print(accuracy_score(y_test,y_pred))\n",
        "print()\n",
        "print(classification_report(y_test,y_pred))"
      ]
    },
    {
      "cell_type": "code",
      "execution_count": null,
      "id": "bbf8f04c",
      "metadata": {
        "id": "bbf8f04c"
      },
      "outputs": [],
      "source": [
        ""
      ]
    },
    {
      "cell_type": "markdown",
      "id": "bcd62bd5",
      "metadata": {
        "id": "bcd62bd5"
      },
      "source": [
        "# Conclusions"
      ]
    },
    {
      "cell_type": "markdown",
      "id": "8ffc00a0",
      "metadata": {
        "id": "8ffc00a0"
      },
      "source": [
        "1. Using SMOTE oversampling, the performance of Logistic Regression declined, but that of Random Forest classifier improved, specially for the minority classes."
      ]
    },
    {
      "cell_type": "markdown",
      "id": "c3aeaa34",
      "metadata": {
        "id": "c3aeaa34"
      },
      "source": [
        "2. Without any oversampling also Random Forest classifier worked better"
      ]
    },
    {
      "cell_type": "markdown",
      "id": "c83ad1e4",
      "metadata": {
        "id": "c83ad1e4"
      },
      "source": [
        "3. Xgboost comparitively didn't perform in both the cases"
      ]
    },
    {
      "cell_type": "code",
      "execution_count": null,
      "id": "2d7d72ef",
      "metadata": {
        "id": "2d7d72ef"
      },
      "outputs": [],
      "source": [
        ""
      ]
    }
  ],
  "metadata": {
    "kernelspec": {
      "display_name": "Python 3 (ipykernel)",
      "language": "python",
      "name": "python3"
    },
    "language_info": {
      "codemirror_mode": {
        "name": "ipython",
        "version": 3
      },
      "file_extension": ".py",
      "mimetype": "text/x-python",
      "name": "python",
      "nbconvert_exporter": "python",
      "pygments_lexer": "ipython3",
      "version": "3.9.7"
    },
    "colab": {
      "name": "HeartBeatClassification_Using_ECG_Data_Team23_ADS_Final_Project.ipynb",
      "provenance": []
    }
  },
  "nbformat": 4,
  "nbformat_minor": 5
}